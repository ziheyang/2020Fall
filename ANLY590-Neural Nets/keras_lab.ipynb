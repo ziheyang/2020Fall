{
 "cells": [
  {
   "cell_type": "code",
   "execution_count": 18,
   "metadata": {
    "id": "jS47B8K0JLkx"
   },
   "outputs": [],
   "source": [
    "import tensorflow as tf\n",
    "import tensorflow.keras as tfk\n",
    "import tensorflow.keras.layers as tfkl\n",
    "import numpy as np\n",
    "import matplotlib.pyplot as plt"
   ]
  },
  {
   "cell_type": "markdown",
   "metadata": {
    "id": "iehoGWa6SSWU"
   },
   "source": [
    "### regression\n",
    "\n",
    "Let's start by using `keras` to make a neural network for a simple regression task where both the input and the output as 1-dimensional. Below is some code that will produce the dataset for you to train on.\n",
    "\n",
    "Here are some general steps to follow:\n",
    "1. Define your model by passing `tfk.Sequential` a list of layers (found in `tf.keras.layers`, which is already imported for you by the shorter name `tfkl`, since you will use this module many times.\n",
    "2. Your first layers should be a `tfkl.Input` layer that specifies the shape of the input (it will automatically include an empty first dimension with size `None` as a placehold for the batch size).\n",
    "3. The rest of your layers should be `tfkl.Dense` layers; you will be to specify the number of neurons/units as well as the activation function (you can find those in `tf.nn`, and you can use `None` for a \"linear\" activation function, $f(x)=x$). Make sure you pick an output function that makes sense for this prediction task!\n",
    "4. Choose an appropriate optimizer from `tfk.optimizers` and an appropriate loss function from `tfk.losses` (both are classes that wil need to be initialized), and then pass them to `model.compile` to compile your model.\n",
    "5. Call `model.fit` to fit your model and collect the results\n",
    "6. Plot your training curve (loss vs training step)\n",
    "7. Call your model (`model(...)`) on a grid of inputs (code to make the grid provided) and plot the relationship your model learned against the true relationship (defined as `f` in the code below)."
   ]
  },
  {
   "cell_type": "code",
   "execution_count": 7,
   "metadata": {},
   "outputs": [
    {
     "data": {
      "text/plain": [
       "array([[-2.66486913],\n",
       "       [ 4.58004337],\n",
       "       [-1.15687725]])"
      ]
     },
     "execution_count": 7,
     "metadata": {},
     "output_type": "execute_result"
    }
   ],
   "source": [
    "np.random.uniform(low=-5.0, high=5.0, size=(3, 1))"
   ]
  },
  {
   "cell_type": "code",
   "execution_count": 62,
   "metadata": {
    "id": "HDgsWoAKJbxz"
   },
   "outputs": [
    {
     "data": {
      "image/png": "[encoded data removed]",
      "text/plain": [
       "<Figure size 432x288 with 1 Axes>"
      ]
     },
     "metadata": {
      "needs_background": "light"
     },
     "output_type": "display_data"
    }
   ],
   "source": [
    "def regression_data(N):\n",
    "    x = np.random.uniform(low=-5.0, high=5.0, size=(N, 1)).astype(np.float32)\n",
    "    e = 0.2 * np.random.normal(size=(N, 1)).astype(np.float32)\n",
    "    f = lambda x: 0.2 * x**2 * np.sin(2 * np.pi * x / 6)\n",
    "    y = f(x) + e\n",
    "    return x, y\n",
    "\n",
    "N = 100\n",
    "x, y = regression_data(N)\n",
    "x_test, y_test = regression_data(N)\n",
    "\n",
    "plt.scatter(x, y, s=10)\n",
    "plt.show()"
   ]
  },
  {
   "cell_type": "code",
   "execution_count": 63,
   "metadata": {},
   "outputs": [
    {
     "data": {
      "text/plain": [
       "(100, 1)"
      ]
     },
     "execution_count": 63,
     "metadata": {},
     "output_type": "execute_result"
    }
   ],
   "source": [
    "x.shape\n"
   ]
  },
  {
   "cell_type": "code",
   "execution_count": 64,
   "metadata": {},
   "outputs": [
    {
     "name": "stdout",
     "output_type": "stream",
     "text": [
      "Model: \"sequential_15\"\n",
      "_________________________________________________________________\n",
      "Layer (type)                 Output Shape              Param #   \n",
      "=================================================================\n",
      "dense_26 (Dense)             (None, 100)               200       \n",
      "_________________________________________________________________\n",
      "dense_27 (Dense)             (None, 20)                2020      \n",
      "_________________________________________________________________\n",
      "dense_28 (Dense)             (None, 1)                 21        \n",
      "=================================================================\n",
      "Total params: 2,241\n",
      "Trainable params: 2,241\n",
      "Non-trainable params: 0\n",
      "_________________________________________________________________\n"
     ]
    }
   ],
   "source": [
    "# regression problem\n",
    "# activation -> relu\n",
    "\n",
    "a = tf.nn.relu\n",
    "\n",
    "model = tfk.Sequential()\n",
    "model.add(tfkl.Input((1,)))\n",
    "model.add(tfkl.Dense(100, activation = a))\n",
    "model.add(tfkl.Dense(20, activation = a))\n",
    "model.add(tfkl.Dense(1, activation = None))\n",
    "model.summary()"
   ]
  },
  {
   "cell_type": "code",
   "execution_count": 65,
   "metadata": {},
   "outputs": [],
   "source": [
    "## add early stopping\n",
    "cbs = [tfk.callbacks.EarlyStopping(min_delta=0.01, patience=0)]\n",
    "ds_train = tf.data.Dataset.from_tensor_slices((x, y)).batch(32).repeat().prefetch(10)\n",
    "ds_test = tf.data.Dataset.from_tensor_slices((x_test, y_test)).batch(32).repeat().prefetch(10)"
   ]
  },
  {
   "cell_type": "code",
   "execution_count": 67,
   "metadata": {},
   "outputs": [
    {
     "name": "stdout",
     "output_type": "stream",
     "text": [
      "Train for 100 steps, validate for 1 steps\n",
      "Epoch 1/10000\n",
      "100/100 [==============================] - 0s 3ms/step - loss: 0.0476 - val_loss: 0.0487\n",
      "Epoch 2/10000\n",
      "100/100 [==============================] - 0s 970us/step - loss: 0.0448 - val_loss: 0.0478\n",
      "Epoch 3/10000\n",
      "100/100 [==============================] - 0s 900us/step - loss: 0.0443 - val_loss: 0.0473\n"
     ]
    }
   ],
   "source": [
    "loss = tfk.losses.MeanSquaredError()\n",
    "opt = tfk.optimizers.Adam()\n",
    "model.compile(opt, loss)\n",
    "# results = model.fit(x, y, epochs = 1000,  verbose = 0) #batch_size = x.shape[0],\n",
    "results = model.fit(ds_train, steps_per_epoch =100, epochs = 10000,  callbacks = cbs, validation_data = ds_test, validation_steps=1) #batch_size = x.shape[0],"
   ]
  },
  {
   "cell_type": "code",
   "execution_count": 43,
   "metadata": {},
   "outputs": [
    {
     "data": {
      "text/plain": [
       "[<matplotlib.lines.Line2D at 0x14a42ff28>]"
      ]
     },
     "execution_count": 43,
     "metadata": {},
     "output_type": "execute_result"
    },
    {
     "data": {
      "image/png": "[encoded data removed]",
      "text/plain": [
       "<Figure size 432x288 with 1 Axes>"
      ]
     },
     "metadata": {
      "needs_background": "light"
     },
     "output_type": "display_data"
    }
   ],
   "source": [
    "plt.plot(results.history[\"loss\"])"
   ]
  },
  {
   "cell_type": "code",
   "execution_count": 68,
   "metadata": {},
   "outputs": [
    {
     "data": {
      "text/plain": [
       "[<matplotlib.lines.Line2D at 0x14a64a0b8>]"
      ]
     },
     "execution_count": 68,
     "metadata": {},
     "output_type": "execute_result"
    },
    {
     "data": {
      "image/png": "[encoded data removed]",
      "text/plain": [
       "<Figure size 432x288 with 1 Axes>"
      ]
     },
     "metadata": {
      "needs_background": "light"
     },
     "output_type": "display_data"
    }
   ],
   "source": [
    "plt.plot(results.history[\"loss\"])\n",
    "plt.plot(results.history[\"val_loss\"])"
   ]
  },
  {
   "cell_type": "code",
   "execution_count": 46,
   "metadata": {
    "id": "pULO0BniMAL2"
   },
   "outputs": [
    {
     "data": {
      "image/png": "[encoded data removed]",
      "text/plain": [
       "<Figure size 432x288 with 1 Axes>"
      ]
     },
     "metadata": {
      "needs_background": "light"
     },
     "output_type": "display_data"
    }
   ],
   "source": [
    "f = lambda x: 0.2 * x**2 * np.sin(2 * np.pi * x / 6)\n",
    "x_grid = np.linspace(x.min(), x.max(), 200).astype(np.float32)[:, np.newaxis]\n",
    "y_true = f(x_grid)\n",
    "y_hat = model(x_grid)\n",
    "# plt.scatter(x, y, s=10)\n",
    "# plt.plot([],[])\n",
    "plt.plot(x_grid, y_true, label = \"true\")\n",
    "plt.plot(x_grid, y_hat, label = \"predicted\")\n",
    "plt.legend()\n",
    "plt.show()\n",
    "# your code here"
   ]
  },
  {
   "cell_type": "markdown",
   "metadata": {
    "id": "Dc59MczHVrc9"
   },
   "source": [
    "### binary classification\n",
    "\n",
    "Here is another dataset that differs in two key ways from the regression example we just worked:\n",
    "1. The input is now 2-dimensional\n",
    "2. The targets are now binary classes\n",
    "\n",
    "Update your model to handle both of these changes and try fitting this new data. Think about the following:\n",
    "- input shape\n",
    "- output function\n",
    "- loss function\n",
    "\n",
    "Since visualizing the results is a bit tricky, we have provided some code for that."
   ]
  },
  {
   "cell_type": "code",
   "execution_count": 70,
   "metadata": {
    "id": "NMg8n9NRGo_9"
   },
   "outputs": [
    {
     "data": {
      "image/png": "[encoded data removed]",
      "text/plain": [
       "<Figure size 504x504 with 1 Axes>"
      ]
     },
     "metadata": {
      "needs_background": "light"
     },
     "output_type": "display_data"
    }
   ],
   "source": [
    "N = 200\n",
    "def binary_classification_data(N):\n",
    "    x = np.random.uniform(low=-5, high=5, size=(N, 2))\n",
    "    y = (x[:, 0] * x[:, 1] > 0).astype(np.int)\n",
    "    return x, y\n",
    "\n",
    "x_train, y_train = binary_classification_data(N)\n",
    "x_test, y_test = binary_classification_data(N)\n",
    "\n",
    "plt.figure(figsize=(7, 7))\n",
    "plt.scatter(x_train[:, 0], x_train[:, 1], s=10, c=y_train, cmap='coolwarm')\n",
    "plt.show()"
   ]
  },
  {
   "cell_type": "code",
   "execution_count": 71,
   "metadata": {},
   "outputs": [
    {
     "data": {
      "text/plain": [
       "(200, 2)"
      ]
     },
     "execution_count": 71,
     "metadata": {},
     "output_type": "execute_result"
    }
   ],
   "source": [
    "x_train.shape"
   ]
  },
  {
   "cell_type": "code",
   "execution_count": 78,
   "metadata": {
    "id": "t4P6Ez3VJzQk"
   },
   "outputs": [
    {
     "name": "stdout",
     "output_type": "stream",
     "text": [
      "Model: \"sequential_19\"\n",
      "_________________________________________________________________\n",
      "Layer (type)                 Output Shape              Param #   \n",
      "=================================================================\n",
      "dense_32 (Dense)             (None, 100)               300       \n",
      "_________________________________________________________________\n",
      "dense_33 (Dense)             (None, 20)                2020      \n",
      "_________________________________________________________________\n",
      "dense_34 (Dense)             (None, 1)                 21        \n",
      "=================================================================\n",
      "Total params: 2,341\n",
      "Trainable params: 2,341\n",
      "Non-trainable params: 0\n",
      "_________________________________________________________________\n"
     ]
    }
   ],
   "source": [
    "a = tf.nn.softplus\n",
    "\n",
    "model = tfk.Sequential([\n",
    "    tfkl.Input((2,)),\n",
    "    tfkl.Dense(100, activation=a),\n",
    "    tfkl.Dense(20, activation=a),\n",
    "#     tfkl.Dense(2, activation=tf.nn.softmax\n",
    "    tfkl.Dense(1, activation=tf.nn.sigmoid)\n",
    "])\n",
    "\n",
    "model.summary()"
   ]
  },
  {
   "cell_type": "code",
   "execution_count": 81,
   "metadata": {},
   "outputs": [
    {
     "name": "stdout",
     "output_type": "stream",
     "text": [
      "Train for 100 steps, validate for 1 steps\n",
      "Epoch 1/100\n",
      "100/100 [==============================] - 0s 4ms/step - loss: 0.5624 - val_loss: 0.3937\n",
      "Epoch 2/100\n",
      "100/100 [==============================] - 0s 1ms/step - loss: 0.2823 - val_loss: 0.1862\n",
      "Epoch 3/100\n",
      "100/100 [==============================] - 0s 1ms/step - loss: 0.1640 - val_loss: 0.1266\n",
      "Epoch 4/100\n",
      "100/100 [==============================] - 0s 976us/step - loss: 0.1172 - val_loss: 0.1003\n",
      "Epoch 5/100\n",
      "100/100 [==============================] - 0s 945us/step - loss: 0.0917 - val_loss: 0.0861\n",
      "Epoch 6/100\n",
      "100/100 [==============================] - 0s 907us/step - loss: 0.0749 - val_loss: 0.0774\n",
      "Epoch 7/100\n",
      "100/100 [==============================] - 0s 966us/step - loss: 0.0629 - val_loss: 0.0712\n",
      "Epoch 8/100\n",
      "100/100 [==============================] - 0s 930us/step - loss: 0.0539 - val_loss: 0.0662\n",
      "Epoch 9/100\n",
      "100/100 [==============================] - 0s 921us/step - loss: 0.0470 - val_loss: 0.0620\n"
     ]
    }
   ],
   "source": [
    "model.compile(optimizer=tfk.optimizers.Adam(), loss=tfk.losses.BinaryCrossentropy())\n",
    "\n",
    "ds_train = tf.data.Dataset.from_tensor_slices((x_train, y_train)).repeat().batch(32).prefetch(10)\n",
    "ds_test = tf.data.Dataset.from_tensor_slices((x_test, y_test)).repeat().batch(32).prefetch(10)\n",
    "\n",
    "results = model.fit(\n",
    "    ds_train, steps_per_epoch=100, epochs=100,\n",
    "    validation_data=ds_test, validation_steps=1, callbacks=cbs\n",
    ")\n"
   ]
  },
  {
   "cell_type": "code",
   "execution_count": 82,
   "metadata": {
    "id": "5ZUclc8PKqEC"
   },
   "outputs": [
    {
     "name": "stdout",
     "output_type": "stream",
     "text": [
      "WARNING:tensorflow:Model was constructed with shape Tensor(\"input_17:0\", shape=(None, 2), dtype=float32) for input (None, 2), but it was re-called on a Tensor with incompatible shape (100, 100, 2).\n",
      "WARNING:tensorflow:Layer dense_32 is casting an input tensor from dtype float64 to the layer's dtype of float32, which is new behavior in TensorFlow 2.  The layer has dtype float32 because it's dtype defaults to floatx.\n",
      "\n",
      "If you intended to run this layer in float32, you can safely ignore this warning. If in doubt, this warning is likely only an issue if you are porting a TensorFlow 1.X model to TensorFlow 2.\n",
      "\n",
      "To change all layers to have dtype float64 by default, call `tf.keras.backend.set_floatx('float64')`. To change just this layer, pass dtype='float64' to the layer constructor. If you are the author of this layer, you can disable autocasting by passing autocast=False to the base Layer constructor.\n",
      "\n"
     ]
    },
    {
     "data": {
      "image/png": "[encoded data removed]",
      "text/plain": [
       "<Figure size 432x288 with 2 Axes>"
      ]
     },
     "metadata": {
      "needs_background": "light"
     },
     "output_type": "display_data"
    }
   ],
   "source": [
    "def binary_preds(model, x_minmax=5):\n",
    "    x_grid = np.linspace(-x_minmax, x_minmax, 100)\n",
    "    mesh = np.meshgrid(x_grid, x_grid)\n",
    "    xs_grid = np.stack(mesh, axis=-1)\n",
    "    yhat = model(xs_grid).numpy().squeeze()\n",
    "\n",
    "\n",
    "    plt.imshow(yhat, cmap='coolwarm')\n",
    "    plt.colorbar()\n",
    "    \n",
    "binary_preds(model)"
   ]
  },
  {
   "cell_type": "markdown",
   "metadata": {
    "id": "f6NPT8dsWWXW"
   },
   "source": [
    "### general classfication\n",
    "\n",
    "Finally we will download and train on some real data to learn about general classification. Here is some code that will download and show some metadata about the MNIST dataset -- a collectin of handwritten digits.\n",
    "\n",
    "Update your model to work on this data so that you model can predict the digit from its image. One new thing to keep in mind: these inputs are 2D. Later in the course we will learn about convolutional neural nets for handing such inputs more naturally, but for now, update your `tfkl.Input` layer to be 2-dimensional and then add a `tfkl.Flatten()` layer right after it to unravel the 2-d image into a 1-d vector of pixels.\n",
    "\n",
    "Again, visualalizing the output is a bit tricky, so we have provided some code to help."
   ]
  },
  {
   "cell_type": "code",
   "execution_count": null,
   "metadata": {},
   "outputs": [],
   "source": [
    "import tensorflow_datasets as tfds\n",
    "\n",
    "ds, metadata = tfds.load('mnist', with_info=True)\n",
    "print(metadata)"
   ]
  },
  {
   "cell_type": "code",
   "execution_count": null,
   "metadata": {
    "id": "bKre0z2HOCDm"
   },
   "outputs": [],
   "source": [
    "a = tf.nn.softplus\n",
    "\n",
    "model = tfk.Sequential([\n",
    "    tfkl.Input((28,28, 1)),\n",
    "    tfkl.Flatten(),\n",
    "    tfkl.Dense(100, activation=a),\n",
    "    tfkl.Dense(20, activation=a),\n",
    "#     tfkl.Dense(2, activation=tf.nn.softmax\n",
    "    tfkl.Dense(10, activation=tf.nn.softmax)\n",
    "])\n",
    "\n",
    "model.summary()\n",
    "\n",
    "model.compile(optimizer=tfk.optimizers.Adam(), loss=tfk.losses.SparseCategoricalCrossentropy())\n",
    "\n",
    "ds_train = tf.data.Dataset.from_tensor_slices((x_train, y_train)).repeat().batch(32).prefetch(10)\n",
    "ds_test = tf.data.Dataset.from_tensor_slices((x_test, y_test)).repeat().batch(32).prefetch(10)\n",
    "\n",
    "results = model.fit(\n",
    "    ds_train, steps_per_epoch=100, epochs=100,\n",
    "    validation_data=ds_test, validation_steps=1, callbacks=cbs\n",
    ")\n"
   ]
  },
  {
   "cell_type": "code",
   "execution_count": null,
   "metadata": {
    "id": "oJ17dcdQOt_w"
   },
   "outputs": [],
   "source": [
    "mnist_viz(model):\n",
    "    ims, labels = next(iter(ds['test'].unbatch().batch(10)))\n",
    "    yhat = model(ims)\n",
    "    ypred = tf.argmax(yhat)\n",
    "\n",
    "    plt.figure(figsize=(10, 40))\n",
    "    for i in range(10):\n",
    "    plt.subplot(10, 2, 2*i+1)\n",
    "    plt.imshow(ims[i].numpy().squeeze(), cmap='bone')\n",
    "    plt.subplot(10, 2, 2*i+2)\n",
    "    plt.bar(np.arange(10), yhat[i].numpy())\n",
    "    plt.ylim([0, 1])\n",
    "    plt.show()\n",
    "\n",
    "# your code here"
   ]
  }
 ],
 "metadata": {
  "accelerator": "TPU",
  "colab": {
   "name": "Copy of keras-lab.ipynb",
   "provenance": []
  },
  "kernelspec": {
   "display_name": "Python 3",
   "language": "python",
   "name": "python3"
  },
  "language_info": {
   "codemirror_mode": {
    "name": "ipython",
    "version": 3
   },
   "file_extension": ".py",
   "mimetype": "text/x-python",
   "name": "python",
   "nbconvert_exporter": "python",
   "pygments_lexer": "ipython3",
   "version": "3.7.3"
  }
 },
 "nbformat": 4,
 "nbformat_minor": 1
}
